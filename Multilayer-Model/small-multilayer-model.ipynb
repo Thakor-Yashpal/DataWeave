{
 "cells": [
  {
   "cell_type": "code",
   "execution_count": 1,
   "id": "2ca9b588",
   "metadata": {
    "_cell_guid": "b1076dfc-b9ad-4769-8c92-a6c4dae69d19",
    "_uuid": "8f2839f25d086af736a60e9eeb907d3b93b6e0e5",
    "execution": {
     "iopub.execute_input": "2025-04-04T13:35:20.034925Z",
     "iopub.status.busy": "2025-04-04T13:35:20.034599Z",
     "iopub.status.idle": "2025-04-04T13:35:24.727458Z",
     "shell.execute_reply": "2025-04-04T13:35:24.726783Z"
    },
    "papermill": {
     "duration": 4.698163,
     "end_time": "2025-04-04T13:35:24.729092",
     "exception": false,
     "start_time": "2025-04-04T13:35:20.030929",
     "status": "completed"
    },
    "tags": []
   },
   "outputs": [],
   "source": [
    "import torch.nn as nn\n",
    "import torch\n",
    "import numpy as np # linear algebra\n",
    "import pandas as pd # data processing, CSV file I/O (e.g. pd.read_csv)\n",
    "import os\n",
    "for dirname, _, filenames in os.walk('/kaggle/input'):\n",
    "    for filename in filenames:\n",
    "        print(os.path.join(dirname, filename))\n"
   ]
  },
  {
   "cell_type": "code",
   "execution_count": 2,
   "id": "c81af4bf",
   "metadata": {
    "execution": {
     "iopub.execute_input": "2025-04-04T13:35:24.734130Z",
     "iopub.status.busy": "2025-04-04T13:35:24.733795Z",
     "iopub.status.idle": "2025-04-04T13:35:24.765747Z",
     "shell.execute_reply": "2025-04-04T13:35:24.764829Z"
    },
    "papermill": {
     "duration": 0.035408,
     "end_time": "2025-04-04T13:35:24.766906",
     "exception": false,
     "start_time": "2025-04-04T13:35:24.731498",
     "status": "completed"
    },
    "tags": []
   },
   "outputs": [
    {
     "name": "stdout",
     "output_type": "stream",
     "text": [
      "Sequential(\n",
      "  (0): Linear(in_features=8, out_features=12, bias=True)\n",
      "  (1): ReLU()\n",
      "  (2): Linear(in_features=12, out_features=8, bias=True)\n",
      "  (3): ReLU()\n",
      "  (4): Linear(in_features=18, out_features=20, bias=True)\n",
      "  (5): ReLU()\n",
      "  (6): Linear(in_features=8, out_features=1, bias=True)\n",
      "  (7): Sigmoid()\n",
      ")\n"
     ]
    }
   ],
   "source": [
    "model = nn.Sequential(\n",
    "    nn.Linear(8,12),\n",
    "    nn.ReLU(),\n",
    "    nn.Linear(12,8),\n",
    "    nn.ReLU(),\n",
    "    nn.Linear(18,20),\n",
    "    nn.ReLU(),\n",
    "    nn.Linear(8,1),\n",
    "    nn.Sigmoid()             \n",
    ")\n",
    "print(model)"
   ]
  },
  {
   "cell_type": "code",
   "execution_count": 3,
   "id": "08bbf2be",
   "metadata": {
    "execution": {
     "iopub.execute_input": "2025-04-04T13:35:24.771270Z",
     "iopub.status.busy": "2025-04-04T13:35:24.771044Z",
     "iopub.status.idle": "2025-04-04T13:35:24.776761Z",
     "shell.execute_reply": "2025-04-04T13:35:24.775970Z"
    },
    "papermill": {
     "duration": 0.009239,
     "end_time": "2025-04-04T13:35:24.777995",
     "exception": false,
     "start_time": "2025-04-04T13:35:24.768756",
     "status": "completed"
    },
    "tags": []
   },
   "outputs": [],
   "source": [
    "class Model(nn.Module):\n",
    "    def __init__(self, feature=4, h1=8, h2=8, h3=8, output_o=6):\n",
    "        super().__init__()\n",
    "        self.f1 = nn.Linear(feature, h1)\n",
    "        self.f2 = nn.Linear(h1, h2)\n",
    "        self.f3 = nn.Linear(h2, h3)\n",
    "        self.f4 = nn.Linear(h3, output_o)\n",
    "\n",
    "    def forward(self, x):\n",
    "        x = self.f1(x)\n",
    "        x = self.f2(x)\n",
    "        x = self.f3(x)\n",
    "        x = self.f4(x)\n",
    "        return x\n",
    "\n",
    "\n",
    "model = Model()"
   ]
  },
  {
   "cell_type": "code",
   "execution_count": 4,
   "id": "6bea5b5d",
   "metadata": {
    "execution": {
     "iopub.execute_input": "2025-04-04T13:35:24.782661Z",
     "iopub.status.busy": "2025-04-04T13:35:24.782441Z",
     "iopub.status.idle": "2025-04-04T13:35:28.648622Z",
     "shell.execute_reply": "2025-04-04T13:35:28.647923Z"
    },
    "papermill": {
     "duration": 3.870226,
     "end_time": "2025-04-04T13:35:28.650169",
     "exception": false,
     "start_time": "2025-04-04T13:35:24.779943",
     "status": "completed"
    },
    "tags": []
   },
   "outputs": [],
   "source": [
    "loss_function = nn.CrossEntropyLoss()\n",
    "\n",
    "optimizer = torch.optim.Adam(model.parameters(),lr= 00.01)"
   ]
  },
  {
   "cell_type": "code",
   "execution_count": 5,
   "id": "ef595170",
   "metadata": {
    "execution": {
     "iopub.execute_input": "2025-04-04T13:35:28.654983Z",
     "iopub.status.busy": "2025-04-04T13:35:28.654637Z",
     "iopub.status.idle": "2025-04-04T13:35:28.661864Z",
     "shell.execute_reply": "2025-04-04T13:35:28.661260Z"
    },
    "papermill": {
     "duration": 0.010826,
     "end_time": "2025-04-04T13:35:28.663003",
     "exception": false,
     "start_time": "2025-04-04T13:35:28.652177",
     "status": "completed"
    },
    "tags": []
   },
   "outputs": [],
   "source": [
    "input = torch.rand(10,4)\n",
    "target = torch.randint(1,6,(10,))"
   ]
  },
  {
   "cell_type": "code",
   "execution_count": 6,
   "id": "eca43eb5",
   "metadata": {
    "execution": {
     "iopub.execute_input": "2025-04-04T13:35:28.667065Z",
     "iopub.status.busy": "2025-04-04T13:35:28.666869Z",
     "iopub.status.idle": "2025-04-04T13:35:28.872134Z",
     "shell.execute_reply": "2025-04-04T13:35:28.871190Z"
    },
    "papermill": {
     "duration": 0.208763,
     "end_time": "2025-04-04T13:35:28.873457",
     "exception": false,
     "start_time": "2025-04-04T13:35:28.664694",
     "status": "completed"
    },
    "tags": []
   },
   "outputs": [
    {
     "name": "stdout",
     "output_type": "stream",
     "text": [
      "Epoch [1/10], Loss: 1.787000060081482\n",
      "Epoch [2/10], Loss: 1.7396749258041382\n",
      "Epoch [3/10], Loss: 1.6980054378509521\n",
      "Epoch [4/10], Loss: 1.6603882312774658\n",
      "Epoch [5/10], Loss: 1.6260381937026978\n",
      "Epoch [6/10], Loss: 1.5943338871002197\n",
      "Epoch [7/10], Loss: 1.5648415088653564\n",
      "Epoch [8/10], Loss: 1.537292242050171\n",
      "Epoch [9/10], Loss: 1.51137375831604\n",
      "Epoch [10/10], Loss: 1.4865696430206299\n"
     ]
    },
    {
     "data": {
      "text/plain": [
       "Model(\n",
       "  (f1): Linear(in_features=4, out_features=8, bias=True)\n",
       "  (f2): Linear(in_features=8, out_features=8, bias=True)\n",
       "  (f3): Linear(in_features=8, out_features=8, bias=True)\n",
       "  (f4): Linear(in_features=8, out_features=6, bias=True)\n",
       ")"
      ]
     },
     "execution_count": 6,
     "metadata": {},
     "output_type": "execute_result"
    }
   ],
   "source": [
    "for epoch in range(10):\n",
    "  optimizer.zero_grad()\n",
    "  outputs = model(input)\n",
    "  loss = loss_function(outputs,target)\n",
    "  loss.backward()\n",
    "  optimizer.step()\n",
    "  print(f\"Epoch [{epoch+1}/10], Loss: {loss.item()}\")\n",
    "\n",
    "model.eval()"
   ]
  }
 ],
 "metadata": {
  "kaggle": {
   "accelerator": "nvidiaTeslaT4",
   "dataSources": [],
   "dockerImageVersionId": 30919,
   "isGpuEnabled": true,
   "isInternetEnabled": true,
   "language": "python",
   "sourceType": "notebook"
  },
  "kernelspec": {
   "display_name": "Python 3",
   "language": "python",
   "name": "python3"
  },
  "language_info": {
   "codemirror_mode": {
    "name": "ipython",
    "version": 3
   },
   "file_extension": ".py",
   "mimetype": "text/x-python",
   "name": "python",
   "nbconvert_exporter": "python",
   "pygments_lexer": "ipython3",
   "version": "3.10.12"
  },
  "papermill": {
   "default_parameters": {},
   "duration": 13.189995,
   "end_time": "2025-04-04T13:35:30.397001",
   "environment_variables": {},
   "exception": null,
   "input_path": "__notebook__.ipynb",
   "output_path": "__notebook__.ipynb",
   "parameters": {},
   "start_time": "2025-04-04T13:35:17.207006",
   "version": "2.6.0"
  }
 },
 "nbformat": 4,
 "nbformat_minor": 5
}
