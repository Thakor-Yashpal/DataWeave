{
 "cells": [
  {
   "cell_type": "code",
   "execution_count": 1,
   "id": "0a0414e2",
   "metadata": {
    "execution": {
     "iopub.execute_input": "2025-04-08T11:19:49.186206Z",
     "iopub.status.busy": "2025-04-08T11:19:49.185879Z",
     "iopub.status.idle": "2025-04-08T11:19:53.343161Z",
     "shell.execute_reply": "2025-04-08T11:19:53.342408Z"
    },
    "executionInfo": {
     "elapsed": 658,
     "status": "ok",
     "timestamp": 1744109580980,
     "user": {
      "displayName": "Yashpalsinh Thakor",
      "userId": "00122346419456467150"
     },
     "user_tz": -330
    },
    "id": "2_GHnseGrVW8",
    "papermill": {
     "duration": 4.164391,
     "end_time": "2025-04-08T11:19:53.344905",
     "exception": false,
     "start_time": "2025-04-08T11:19:49.180514",
     "status": "completed"
    },
    "tags": []
   },
   "outputs": [],
   "source": [
    "import torch\n",
    "import torch.nn as nn\n",
    "import torch.optim as optim\n",
    "import numpy as np\n",
    "import matplotlib.pyplot as plt\n",
    "import kagglehub"
   ]
  },
  {
   "cell_type": "code",
   "execution_count": 2,
   "id": "948a6882",
   "metadata": {
    "execution": {
     "iopub.execute_input": "2025-04-08T11:19:53.353305Z",
     "iopub.status.busy": "2025-04-08T11:19:53.352943Z",
     "iopub.status.idle": "2025-04-08T11:19:53.432312Z",
     "shell.execute_reply": "2025-04-08T11:19:53.431417Z"
    },
    "executionInfo": {
     "elapsed": 17,
     "status": "ok",
     "timestamp": 1744109581016,
     "user": {
      "displayName": "Yashpalsinh Thakor",
      "userId": "00122346419456467150"
     },
     "user_tz": -330
    },
    "id": "sYdO3l9KrqT9",
    "outputId": "a6589a00-e651-4d14-ddc6-b92963d1a30f",
    "papermill": {
     "duration": 0.084577,
     "end_time": "2025-04-08T11:19:53.433525",
     "exception": false,
     "start_time": "2025-04-08T11:19:53.348948",
     "status": "completed"
    },
    "tags": []
   },
   "outputs": [
    {
     "name": "stdout",
     "output_type": "stream",
     "text": [
      "cuda\n"
     ]
    }
   ],
   "source": [
    "device = 'cuda' if torch.cuda.is_available() else 'cpu'\n",
    "print(device)"
   ]
  },
  {
   "cell_type": "code",
   "execution_count": 3,
   "id": "82340802",
   "metadata": {
    "execution": {
     "iopub.execute_input": "2025-04-08T11:19:53.440997Z",
     "iopub.status.busy": "2025-04-08T11:19:53.440729Z",
     "iopub.status.idle": "2025-04-08T11:19:53.532386Z",
     "shell.execute_reply": "2025-04-08T11:19:53.531501Z"
    },
    "executionInfo": {
     "elapsed": 16,
     "status": "ok",
     "timestamp": 1744109581031,
     "user": {
      "displayName": "Yashpalsinh Thakor",
      "userId": "00122346419456467150"
     },
     "user_tz": -330
    },
    "id": "w-ospgk9sbdI",
    "outputId": "a3aa3d33-a77d-4585-d80e-d43f0902acbc",
    "papermill": {
     "duration": 0.096645,
     "end_time": "2025-04-08T11:19:53.533649",
     "exception": false,
     "start_time": "2025-04-08T11:19:53.437004",
     "status": "completed"
    },
    "tags": []
   },
   "outputs": [
    {
     "name": "stdout",
     "output_type": "stream",
     "text": [
      "tensor(4.) tensor(8.)\n"
     ]
    }
   ],
   "source": [
    "a1 = torch.tensor(1.5)\n",
    "a2 = torch.tensor(2.5)\n",
    "a3 = torch.tensor(3.5)\n",
    "a4 = torch.tensor(4.5)\n",
    "c = torch.add(a1, a2)\n",
    "c1 =torch.add(a3, a4)\n",
    "print(c,c1)"
   ]
  },
  {
   "cell_type": "code",
   "execution_count": 4,
   "id": "2b88f98b",
   "metadata": {
    "execution": {
     "iopub.execute_input": "2025-04-08T11:19:53.541224Z",
     "iopub.status.busy": "2025-04-08T11:19:53.540985Z",
     "iopub.status.idle": "2025-04-08T11:19:53.549814Z",
     "shell.execute_reply": "2025-04-08T11:19:53.548901Z"
    },
    "executionInfo": {
     "elapsed": 20,
     "status": "ok",
     "timestamp": 1744109581061,
     "user": {
      "displayName": "Yashpalsinh Thakor",
      "userId": "00122346419456467150"
     },
     "user_tz": -330
    },
    "id": "h10Eg3TRtN8X",
    "outputId": "76e559e1-f399-4f40-e3ab-519288d826c7",
    "papermill": {
     "duration": 0.014087,
     "end_time": "2025-04-08T11:19:53.551261",
     "exception": false,
     "start_time": "2025-04-08T11:19:53.537174",
     "status": "completed"
    },
    "tags": []
   },
   "outputs": [
    {
     "name": "stdout",
     "output_type": "stream",
     "text": [
      "Sequential(\n",
      "  (0): Linear(in_features=8, out_features=12, bias=True)\n",
      "  (1): ReLU()\n",
      "  (2): Linear(in_features=12, out_features=8, bias=True)\n",
      "  (3): ReLU()\n",
      "  (4): Linear(in_features=8, out_features=12, bias=True)\n",
      "  (5): ReLU()\n",
      "  (6): Linear(in_features=12, out_features=1, bias=True)\n",
      "  (7): Sigmoid()\n",
      ")\n"
     ]
    }
   ],
   "source": [
    "model = nn.Sequential(\n",
    "    nn.Linear(8,12),\n",
    "    nn.ReLU(),\n",
    "    nn.Linear(12,8),\n",
    "    nn.ReLU(),\n",
    "    nn.Linear(8,12),\n",
    "    nn.ReLU(),\n",
    "    nn.Linear(12,1),\n",
    "    nn.Sigmoid()\n",
    ")\n",
    "print(model)"
   ]
  },
  {
   "cell_type": "code",
   "execution_count": 5,
   "id": "6fda218e",
   "metadata": {
    "execution": {
     "iopub.execute_input": "2025-04-08T11:19:53.558875Z",
     "iopub.status.busy": "2025-04-08T11:19:53.558596Z",
     "iopub.status.idle": "2025-04-08T11:19:53.650281Z",
     "shell.execute_reply": "2025-04-08T11:19:53.649138Z"
    },
    "executionInfo": {
     "elapsed": 4056,
     "status": "ok",
     "timestamp": 1744109585117,
     "user": {
      "displayName": "Yashpalsinh Thakor",
      "userId": "00122346419456467150"
     },
     "user_tz": -330
    },
    "id": "Hc7jl_yOvxn7",
    "outputId": "0dc936ca-a1e9-4e93-e011-c869e5490c79",
    "papermill": {
     "duration": 0.096945,
     "end_time": "2025-04-08T11:19:53.651673",
     "exception": false,
     "start_time": "2025-04-08T11:19:53.554728",
     "status": "completed"
    },
    "tags": []
   },
   "outputs": [
    {
     "name": "stdout",
     "output_type": "stream",
     "text": [
      "Path to dataset files: /kaggle/input/pima-indians-diabetes-database/diabetes.csv\n",
      "[[  6.    148.     72.    ...   0.627  50.      1.   ]\n",
      " [  1.     85.     66.    ...   0.351  31.      0.   ]\n",
      " [  8.    183.     64.    ...   0.672  32.      1.   ]\n",
      " ...\n",
      " [  5.    121.     72.    ...   0.245  30.      0.   ]\n",
      " [  1.    126.     60.    ...   0.349  47.      1.   ]\n",
      " [  1.     93.     70.    ...   0.315  23.      0.   ]]\n"
     ]
    }
   ],
   "source": [
    "\n",
    "# Download latest version\n",
    "path = kagglehub.dataset_download(\"uciml/pima-indians-diabetes-database\", \"diabetes.csv\")\n",
    "print(\"Path to dataset files:\", path)\n",
    "\n",
    "data_set = np.loadtxt(path, delimiter=',', skiprows=1)\n",
    "print(data_set)\n"
   ]
  },
  {
   "cell_type": "code",
   "execution_count": 6,
   "id": "ff3d3d72",
   "metadata": {
    "execution": {
     "iopub.execute_input": "2025-04-08T11:19:53.660052Z",
     "iopub.status.busy": "2025-04-08T11:19:53.659728Z",
     "iopub.status.idle": "2025-04-08T11:19:53.665888Z",
     "shell.execute_reply": "2025-04-08T11:19:53.665152Z"
    },
    "executionInfo": {
     "elapsed": 7,
     "status": "ok",
     "timestamp": 1744109585132,
     "user": {
      "displayName": "Yashpalsinh Thakor",
      "userId": "00122346419456467150"
     },
     "user_tz": -330
    },
    "id": "Qd5JQi9EyXiv",
    "papermill": {
     "duration": 0.011676,
     "end_time": "2025-04-08T11:19:53.667232",
     "exception": false,
     "start_time": "2025-04-08T11:19:53.655556",
     "status": "completed"
    },
    "tags": []
   },
   "outputs": [],
   "source": [
    "X = data_set[:,0:8]\n",
    "y = data_set[:,8]\n",
    "X = torch.tensor(X, dtype=torch.float32)\n",
    "y = torch.tensor(y, dtype=torch.float32).reshape(-1,1)\n",
    "\n",
    "loss_fn = nn.BCELoss()"
   ]
  },
  {
   "cell_type": "code",
   "execution_count": 7,
   "id": "276a0130",
   "metadata": {
    "execution": {
     "iopub.execute_input": "2025-04-08T11:19:53.675006Z",
     "iopub.status.busy": "2025-04-08T11:19:53.674722Z",
     "iopub.status.idle": "2025-04-08T11:20:09.946029Z",
     "shell.execute_reply": "2025-04-08T11:20:09.944999Z"
    },
    "executionInfo": {
     "elapsed": 13565,
     "status": "ok",
     "timestamp": 1744110333515,
     "user": {
      "displayName": "Yashpalsinh Thakor",
      "userId": "00122346419456467150"
     },
     "user_tz": -330
    },
    "id": "H5GrKvWrzExi",
    "outputId": "6e1b034a-33d0-4846-94fd-33636439998d",
    "papermill": {
     "duration": 16.276718,
     "end_time": "2025-04-08T11:20:09.947423",
     "exception": false,
     "start_time": "2025-04-08T11:19:53.670705",
     "status": "completed"
    },
    "tags": []
   },
   "outputs": [
    {
     "name": "stdout",
     "output_type": "stream",
     "text": [
      "epoch: 0, loss: 0.5857728719711304\n",
      "epoch: 1, loss: 0.5313069224357605\n",
      "epoch: 2, loss: 0.5284207463264465\n",
      "epoch: 3, loss: 0.5520662069320679\n",
      "epoch: 4, loss: 0.5017644166946411\n",
      "epoch: 5, loss: 0.5223063230514526\n",
      "epoch: 6, loss: 0.5360729694366455\n",
      "epoch: 7, loss: 0.5201258659362793\n",
      "epoch: 8, loss: 0.49530383944511414\n",
      "epoch: 9, loss: 0.5218676924705505\n",
      "epoch: 10, loss: 0.5348324179649353\n",
      "epoch: 11, loss: 0.49317434430122375\n",
      "epoch: 12, loss: 0.5348009467124939\n",
      "epoch: 13, loss: 0.5273207426071167\n",
      "epoch: 14, loss: 0.5312039256095886\n",
      "epoch: 15, loss: 0.5277061462402344\n",
      "epoch: 16, loss: 0.4894765019416809\n",
      "epoch: 17, loss: 0.519383430480957\n",
      "epoch: 18, loss: 0.5169103145599365\n",
      "epoch: 19, loss: 0.5338936448097229\n",
      "epoch: 20, loss: 0.48108139634132385\n",
      "epoch: 21, loss: 0.5323266386985779\n",
      "epoch: 22, loss: 0.5067894458770752\n",
      "epoch: 23, loss: 0.5186951756477356\n",
      "epoch: 24, loss: 0.5185859203338623\n",
      "epoch: 25, loss: 0.48216909170150757\n",
      "epoch: 26, loss: 0.503049910068512\n",
      "epoch: 27, loss: 0.4966317117214203\n",
      "epoch: 28, loss: 0.4995976388454437\n",
      "epoch: 29, loss: 0.44276362657546997\n",
      "epoch: 30, loss: 0.5025505423545837\n",
      "epoch: 31, loss: 0.4980490207672119\n",
      "epoch: 32, loss: 0.5049290060997009\n",
      "epoch: 33, loss: 0.3758620619773865\n",
      "epoch: 34, loss: 0.5028088092803955\n",
      "epoch: 35, loss: 0.5207968950271606\n",
      "epoch: 36, loss: 0.48447948694229126\n",
      "epoch: 37, loss: 0.52603679895401\n",
      "epoch: 38, loss: 0.5388215184211731\n",
      "epoch: 39, loss: 0.5132948160171509\n",
      "epoch: 40, loss: 0.5012354254722595\n",
      "epoch: 41, loss: 0.5488830804824829\n",
      "epoch: 42, loss: 0.46933501958847046\n",
      "epoch: 43, loss: 0.5738915801048279\n",
      "epoch: 44, loss: 0.43290168046951294\n",
      "epoch: 45, loss: 0.39416366815567017\n",
      "epoch: 46, loss: 0.46745261549949646\n",
      "epoch: 47, loss: 0.4177444875240326\n",
      "epoch: 48, loss: 0.4820525050163269\n",
      "epoch: 49, loss: 0.4928620457649231\n",
      "epoch: 50, loss: 0.5112525224685669\n",
      "epoch: 51, loss: 0.520614504814148\n",
      "epoch: 52, loss: 0.5066598057746887\n",
      "epoch: 53, loss: 0.4679000973701477\n",
      "epoch: 54, loss: 0.4720662236213684\n",
      "epoch: 55, loss: 0.45851558446884155\n",
      "epoch: 56, loss: 0.4187696874141693\n",
      "epoch: 57, loss: 0.4623713195323944\n",
      "epoch: 58, loss: 0.48999524116516113\n",
      "epoch: 59, loss: 0.4501051604747772\n",
      "epoch: 60, loss: 0.5070495009422302\n",
      "epoch: 61, loss: 0.5071026086807251\n",
      "epoch: 62, loss: 0.4703212380409241\n",
      "epoch: 63, loss: 0.47540751099586487\n",
      "epoch: 64, loss: 0.47723671793937683\n",
      "epoch: 65, loss: 0.47443583607673645\n",
      "epoch: 66, loss: 0.47272658348083496\n",
      "epoch: 67, loss: 0.4666074812412262\n",
      "epoch: 68, loss: 0.49722209572792053\n",
      "epoch: 69, loss: 0.5043119788169861\n",
      "epoch: 70, loss: 0.45597225427627563\n",
      "epoch: 71, loss: 0.47941526770591736\n",
      "epoch: 72, loss: 0.44452568888664246\n",
      "epoch: 73, loss: 0.462760865688324\n",
      "epoch: 74, loss: 0.41834840178489685\n",
      "epoch: 75, loss: 0.4622252881526947\n",
      "epoch: 76, loss: 0.462527334690094\n",
      "epoch: 77, loss: 0.4468197524547577\n",
      "epoch: 78, loss: 0.44291195273399353\n",
      "epoch: 79, loss: 0.4627517759799957\n",
      "epoch: 80, loss: 0.4765298366546631\n",
      "epoch: 81, loss: 0.4363107681274414\n",
      "epoch: 82, loss: 0.48296570777893066\n",
      "epoch: 83, loss: 0.42135924100875854\n",
      "epoch: 84, loss: 0.42913398146629333\n",
      "epoch: 85, loss: 0.4486818313598633\n",
      "epoch: 86, loss: 0.44342920184135437\n",
      "epoch: 87, loss: 0.4911831319332123\n",
      "epoch: 88, loss: 0.46563050150871277\n",
      "epoch: 89, loss: 0.4417951703071594\n",
      "epoch: 90, loss: 0.4407760798931122\n",
      "epoch: 91, loss: 0.4526832401752472\n",
      "epoch: 92, loss: 0.46073734760284424\n",
      "epoch: 93, loss: 0.4268186688423157\n",
      "epoch: 94, loss: 0.506385087966919\n",
      "epoch: 95, loss: 0.41717246174812317\n",
      "epoch: 96, loss: 0.4637662172317505\n",
      "epoch: 97, loss: 0.4315943121910095\n",
      "epoch: 98, loss: 0.4500930607318878\n",
      "epoch: 99, loss: 0.4472956955432892\n",
      "epoch: 100, loss: 0.43149781227111816\n"
     ]
    }
   ],
   "source": [
    "Optimizer = optim.Adam(model.parameters(), lr=0.01)\n",
    "\n",
    "epochs = 100\n",
    "batch_size = 10\n",
    "loss_history = []\n",
    "\n",
    "for epoch in range(epochs + 1):\n",
    "    for i in range(0, len(X), batch_size):\n",
    "        X_batch = X[i:i + batch_size]\n",
    "        y_pred = model(X_batch)\n",
    "\n",
    "        y_batch = y[i:i + batch_size]\n",
    "        loss = loss_fn(y_pred, y_batch)\n",
    "\n",
    "        Optimizer.zero_grad()\n",
    "        loss.backward()\n",
    "        Optimizer.step()\n",
    "    loss_history.append(loss)\n",
    "    print(f'epoch: {epoch}, loss: {loss.item()}')"
   ]
  },
  {
   "cell_type": "code",
   "execution_count": 8,
   "id": "697a8832",
   "metadata": {
    "execution": {
     "iopub.execute_input": "2025-04-08T11:20:09.960876Z",
     "iopub.status.busy": "2025-04-08T11:20:09.960443Z",
     "iopub.status.idle": "2025-04-08T11:20:09.967385Z",
     "shell.execute_reply": "2025-04-08T11:20:09.966272Z"
    },
    "executionInfo": {
     "elapsed": 29,
     "status": "ok",
     "timestamp": 1744110217887,
     "user": {
      "displayName": "Yashpalsinh Thakor",
      "userId": "00122346419456467150"
     },
     "user_tz": -330
    },
    "id": "MDniW4le06WL",
    "outputId": "dfa441a0-1103-4fc5-9814-ca57d36b61bd",
    "papermill": {
     "duration": 0.015073,
     "end_time": "2025-04-08T11:20:09.968755",
     "exception": false,
     "start_time": "2025-04-08T11:20:09.953682",
     "status": "completed"
    },
    "tags": []
   },
   "outputs": [
    {
     "name": "stdout",
     "output_type": "stream",
     "text": [
      "tensor([[  5.0000, 116.0000,  74.0000,   0.0000,   0.0000,  25.6000,   0.2010,\n",
      "          30.0000]]) --> tensor([[0.3623]], grad_fn=<SigmoidBackward0>)\n"
     ]
    }
   ],
   "source": [
    "# method 01\n",
    "\n",
    "i = 5\n",
    "X_sample = X[i:i+1]\n",
    "y_pred = model(X_sample)\n",
    "\n",
    "print(f'{X_sample} --> {y_pred}')"
   ]
  },
  {
   "cell_type": "code",
   "execution_count": 9,
   "id": "d26f44ea",
   "metadata": {
    "execution": {
     "iopub.execute_input": "2025-04-08T11:20:09.981642Z",
     "iopub.status.busy": "2025-04-08T11:20:09.981420Z",
     "iopub.status.idle": "2025-04-08T11:20:09.987890Z",
     "shell.execute_reply": "2025-04-08T11:20:09.986893Z"
    },
    "executionInfo": {
     "elapsed": 12,
     "status": "ok",
     "timestamp": 1744110217899,
     "user": {
      "displayName": "Yashpalsinh Thakor",
      "userId": "00122346419456467150"
     },
     "user_tz": -330
    },
    "id": "94SXcuwvAH-X",
    "outputId": "51befbcb-edf7-4c02-9989-5507a69a35b3",
    "papermill": {
     "duration": 0.014546,
     "end_time": "2025-04-08T11:20:09.989293",
     "exception": false,
     "start_time": "2025-04-08T11:20:09.974747",
     "status": "completed"
    },
    "tags": []
   },
   "outputs": [
    {
     "name": "stdout",
     "output_type": "stream",
     "text": [
      "tensor([[  5.0000, 116.0000,  74.0000,   0.0000,   0.0000,  25.6000,   0.2010,\n",
      "          30.0000]]) --> tensor([[0.3623]])\n"
     ]
    }
   ],
   "source": [
    "# method 02\n",
    "\n",
    "i = 5\n",
    "X_sample = X[i:i+1]\n",
    "model.eval()\n",
    "with torch.no_grad():\n",
    "    y_pred = model(X_sample)\n",
    "\n",
    "print(f'{X_sample} --> {y_pred}')\n"
   ]
  },
  {
   "cell_type": "code",
   "execution_count": 10,
   "id": "f301d873",
   "metadata": {
    "execution": {
     "iopub.execute_input": "2025-04-08T11:20:10.002178Z",
     "iopub.status.busy": "2025-04-08T11:20:10.001958Z",
     "iopub.status.idle": "2025-04-08T11:20:10.260217Z",
     "shell.execute_reply": "2025-04-08T11:20:10.259201Z"
    },
    "executionInfo": {
     "elapsed": 207,
     "status": "ok",
     "timestamp": 1744110339607,
     "user": {
      "displayName": "Yashpalsinh Thakor",
      "userId": "00122346419456467150"
     },
     "user_tz": -330
    },
    "id": "SF4N9dtxD_sZ",
    "outputId": "f55083de-f71a-4135-eb10-39360fd0fee2",
    "papermill": {
     "duration": 0.266567,
     "end_time": "2025-04-08T11:20:10.261893",
     "exception": false,
     "start_time": "2025-04-08T11:20:09.995326",
     "status": "completed"
    },
    "tags": []
   },
   "outputs": [
    {
     "data": {
      "text/plain": [
       "Text(0.5, 0, 'Epochs')"
      ]
     },
     "execution_count": 10,
     "metadata": {},
     "output_type": "execute_result"
    },
    {
     "data": {
      "image/png": "[encoded data removed]",
      "text/plain": [
       "<Figure size 640x480 with 1 Axes>"
      ]
     },
     "metadata": {},
     "output_type": "display_data"
    }
   ],
   "source": [
    "plt.plot(range(epochs+1), [loss.item() for loss in loss_history]) #changed\n",
    "plt.ylabel('Loss')\n",
    "plt.xlabel('Epochs')"
   ]
  },
  {
   "cell_type": "code",
   "execution_count": 11,
   "id": "478dff88",
   "metadata": {
    "execution": {
     "iopub.execute_input": "2025-04-08T11:20:10.277553Z",
     "iopub.status.busy": "2025-04-08T11:20:10.277277Z",
     "iopub.status.idle": "2025-04-08T11:20:10.286298Z",
     "shell.execute_reply": "2025-04-08T11:20:10.285388Z"
    },
    "executionInfo": {
     "elapsed": 13,
     "status": "ok",
     "timestamp": 1744110358586,
     "user": {
      "displayName": "Yashpalsinh Thakor",
      "userId": "00122346419456467150"
     },
     "user_tz": -330
    },
    "id": "3eTRhkhaFAp_",
    "outputId": "c228acea-e1a4-4195-f80f-aedeba5f9424",
    "papermill": {
     "duration": 0.018102,
     "end_time": "2025-04-08T11:20:10.287730",
     "exception": false,
     "start_time": "2025-04-08T11:20:10.269628",
     "status": "completed"
    },
    "tags": []
   },
   "outputs": [
    {
     "name": "stdout",
     "output_type": "stream",
     "text": [
      "Accuracy: 0.7057291865348816\n"
     ]
    }
   ],
   "source": [
    "model.eval()\n",
    "with torch.no_grad():\n",
    "    y_pred = model(X)\n",
    "\n",
    "accuracy = (y_pred.round() == y).float().mean()\n",
    "print(f'Accuracy: {accuracy}')"
   ]
  }
 ],
 "metadata": {
  "accelerator": "GPU",
  "colab": {
   "authorship_tag": "ABX9TyNe4PB2S2iLZG1EzR9LizFq",
   "gpuType": "T4",
   "provenance": []
  },
  "kaggle": {
   "accelerator": "nvidiaTeslaT4",
   "dataSources": [
    {
     "databundleVersionId": 482,
     "datasetId": 228,
     "sourceId": 482,
     "sourceType": "datasetVersion"
    },
    {
     "databundleVersionId": 11689860,
     "modelInstanceId": 270260,
     "sourceId": 320421,
     "sourceType": "modelInstanceVersion"
    }
   ],
   "dockerImageVersionId": 30919,
   "isGpuEnabled": true,
   "isInternetEnabled": true,
   "language": "python",
   "sourceType": "notebook"
  },
  "kernelspec": {
   "display_name": "Python 3",
   "language": "python",
   "name": "python3"
  },
  "language_info": {
   "codemirror_mode": {
    "name": "ipython",
    "version": 3
   },
   "file_extension": ".py",
   "mimetype": "text/x-python",
   "name": "python",
   "nbconvert_exporter": "python",
   "pygments_lexer": "ipython3",
   "version": "3.10.12"
  },
  "papermill": {
   "default_parameters": {},
   "duration": 25.619529,
   "end_time": "2025-04-08T11:20:11.817593",
   "environment_variables": {},
   "exception": null,
   "input_path": "__notebook__.ipynb",
   "output_path": "__notebook__.ipynb",
   "parameters": {},
   "start_time": "2025-04-08T11:19:46.198064",
   "version": "2.6.0"
  }
 },
 "nbformat": 4,
 "nbformat_minor": 5
}
